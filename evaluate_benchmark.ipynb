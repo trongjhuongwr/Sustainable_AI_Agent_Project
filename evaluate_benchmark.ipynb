{
 "cells": [
  {
   "cell_type": "markdown",
   "metadata": {},
   "source": [
    "# =============================================================================\n",
    "# BENCHMARK EVALUATION NOTEBOOK\n",
    "# =============================================================================\n",
    "## Purpose:\n",
    "    - Load the baseline model, processed test data, and the best action determined by the RL agent.\n",
    "    - Apply the baseline configuration, manual optimization strategies (pruning, quantization), and the agent-discovered optimization strategy.\n",
    "    - Perform a comprehensive benchmark evaluation (N=10 runs) for statistical robustness.\n",
    "    - Report metrics (Accuracy, Latency, Energy, Params, FLOPs) as Mean ± Standard Deviation.\n",
    "    - Visualize the comparative performance results based on mean values.\n",
    "# ============================================================================="
   ]
  },
  {
   "cell_type": "markdown",
   "metadata": {},
   "source": [
    "# === Clone Repository & Install Dependencies ==="
   ]
  },
  {
   "cell_type": "code",
   "execution_count": 72,
   "metadata": {
    "execution": {
     "iopub.execute_input": "2025-10-31T16:59:34.457374Z",
     "iopub.status.busy": "2025-10-31T16:59:34.457123Z",
     "iopub.status.idle": "2025-10-31T16:59:35.324699Z",
     "shell.execute_reply": "2025-10-31T16:59:35.323711Z",
     "shell.execute_reply.started": "2025-10-31T16:59:34.457357Z"
    },
    "trusted": true
   },
   "outputs": [
    {
     "name": "stdout",
     "output_type": "stream",
     "text": [
      "Cloning into 'Sustainable_AI_Agent_Project'...\n",
      "remote: Enumerating objects: 53, done.\u001b[K\n",
      "remote: Counting objects: 100% (53/53), done.\u001b[K\n",
      "remote: Compressing objects: 100% (41/41), done.\u001b[K\n",
      "remote: Total 53 (delta 18), reused 42 (delta 10), pack-reused 0 (from 0)\u001b[K\n",
      "Receiving objects: 100% (53/53), 937.23 KiB | 12.84 MiB/s, done.\n",
      "Resolving deltas: 100% (18/18), done.\n",
      "/kaggle/working/Sustainable_AI_Agent_Project/Sustainable_AI_Agent_Project/Sustainable_AI_Agent_Project/Sustainable_AI_Agent_Project/Sustainable_AI_Agent_Project/Sustainable_AI_Agent_Project/Sustainable_AI_Agent_Project/Sustainable_AI_Agent_Project\n"
     ]
    }
   ],
   "source": [
    "!rm -rf Sustainable_AI_Agent_Project\n",
    "!git clone https://github.com/trongjhuongwr/Sustainable_AI_Agent_Project.git\n",
    "%cd Sustainable_AI_Agent_Project"
   ]
  },
  {
   "cell_type": "code",
   "execution_count": 73,
   "metadata": {
    "execution": {
     "iopub.execute_input": "2025-10-31T16:59:35.326924Z",
     "iopub.status.busy": "2025-10-31T16:59:35.326597Z",
     "iopub.status.idle": "2025-10-31T16:59:38.932467Z",
     "shell.execute_reply": "2025-10-31T16:59:38.931396Z",
     "shell.execute_reply.started": "2025-10-31T16:59:35.326903Z"
    },
    "trusted": true
   },
   "outputs": [],
   "source": [
    "!pip install -q --extra-index-url https://download.pytorch.org/whl/cu121 -r /kaggle/working/Sustainable_AI_Agent_Project/requirements.txt"
   ]
  },
  {
   "cell_type": "code",
   "execution_count": 74,
   "metadata": {
    "execution": {
     "iopub.execute_input": "2025-10-31T16:59:38.934011Z",
     "iopub.status.busy": "2025-10-31T16:59:38.933657Z",
     "iopub.status.idle": "2025-10-31T16:59:40.364463Z",
     "shell.execute_reply": "2025-10-31T16:59:40.363457Z",
     "shell.execute_reply.started": "2025-10-31T16:59:38.933950Z"
    },
    "trusted": true
   },
   "outputs": [
    {
     "name": "stdout",
     "output_type": "stream",
     "text": [
      "\u001b[33mWARNING: Skipping torchvision as it is not installed.\u001b[0m\u001b[33m\n",
      "\u001b[0mTorchvision uninstalled.\n"
     ]
    }
   ],
   "source": [
    "# Uninstall torchvision to prevent import conflicts with ptflops/pytorch\n",
    "!pip uninstall -y torchvision\n",
    "print(\"Torchvision uninstalled.\")"
   ]
  },
  {
   "cell_type": "markdown",
   "metadata": {},
   "source": [
    "# 1. Import Libraries and Configuration"
   ]
  },
  {
   "cell_type": "code",
   "execution_count": 75,
   "metadata": {
    "execution": {
     "iopub.execute_input": "2025-10-31T16:59:40.367080Z",
     "iopub.status.busy": "2025-10-31T16:59:40.366796Z",
     "iopub.status.idle": "2025-10-31T16:59:40.375564Z",
     "shell.execute_reply": "2025-10-31T16:59:40.374864Z",
     "shell.execute_reply.started": "2025-10-31T16:59:40.367057Z"
    },
    "trusted": true
   },
   "outputs": [
    {
     "name": "stdout",
     "output_type": "stream",
     "text": [
      "Libraries imported successfully.\n"
     ]
    }
   ],
   "source": [
    "import os\n",
    "import warnings\n",
    "import logging\n",
    "import json\n",
    "import copy\n",
    "import random\n",
    "from tqdm.notebook import tqdm\n",
    "\n",
    "# Suppress specific warnings for cleaner output\n",
    "os.environ[\"GYM_DISABLE_WARNINGS\"] = \"true\"\n",
    "warnings.filterwarnings(\"ignore\", module=\"gymnasium\")\n",
    "warnings.filterwarnings(\"ignore\", category=UserWarning)\n",
    "logging.getLogger(\"gymnasium\").setLevel(logging.ERROR)\n",
    "logging.getLogger(\"stable_baselines3\").setLevel(logging.ERROR)\n",
    "\n",
    "import torch\n",
    "import torch.nn as nn\n",
    "from torch.utils.data import DataLoader, TensorDataset\n",
    "import numpy as np\n",
    "import pandas as pd\n",
    "import gymnasium as gym # Required for potential agent loading fallback\n",
    "from gymnasium import spaces # Required for potential agent loading fallback\n",
    "from sklearn.metrics import accuracy_score\n",
    "from stable_baselines3 import PPO # Required for potential agent loading fallback\n",
    "from codecarbon import EmissionsTracker\n",
    "from ptflops import get_model_complexity_info\n",
    "import torch_pruning as tp\n",
    "import matplotlib.pyplot as plt\n",
    "import seaborn as sns\n",
    "from builtins import print as builtin_print\n",
    "import time\n",
    "\n",
    "print(\"Libraries imported successfully.\")"
   ]
  },
  {
   "cell_type": "markdown",
   "metadata": {},
   "source": [
    "# 2. Configuration Class"
   ]
  },
  {
   "cell_type": "code",
   "execution_count": 76,
   "metadata": {
    "execution": {
     "iopub.execute_input": "2025-10-31T16:59:40.376764Z",
     "iopub.status.busy": "2025-10-31T16:59:40.376487Z",
     "iopub.status.idle": "2025-10-31T16:59:40.396597Z",
     "shell.execute_reply": "2025-10-31T16:59:40.395780Z",
     "shell.execute_reply.started": "2025-10-31T16:59:40.376740Z"
    },
    "trusted": true
   },
   "outputs": [
    {
     "name": "stdout",
     "output_type": "stream",
     "text": [
      "Configuration loaded. Evaluation device preference: CPU for metrics.\n",
      "Statistical runs planned: 10\n",
      "Loading data from: /kaggle/input/baseline-model-saa/processed_data.pt\n",
      "Loading baseline model from: /kaggle/input/baseline-model-saa/baseline_model.pth\n",
      "Attempting to load best action from: /kaggle/input/train-rl-agent-done/best_action.json\n",
      "Agent path (fallback): /kaggle/input/train-rl-agent-done/sustainable_ai_agent_ppo\n"
     ]
    }
   ],
   "source": [
    "# Defines hyperparameters, file paths, and evaluation parameters.\n",
    "class Config:\n",
    "    # --- Input Paths ---\n",
    "    PROCESSED_DATA_PATH = '/kaggle/input/baseline-model-saa/processed_data.pt' # Path to processed data tensors\n",
    "    BASELINE_MODEL_PATH = '/kaggle/input/baseline-model-saa/baseline_model.pth' # Path to baseline model state dictionary\n",
    "    AGENT_SAVE_PATH = \"/kaggle/input/train-rl-agent-done/sustainable_ai_agent_ppo\" # Path to saved PPO agent (fallback)\n",
    "    BEST_ACTION_PATH = \"/kaggle/input/train-rl-agent-done/best_action.json\" # Preferred path for best action info\n",
    "\n",
    "    # --- Data Parameters ---\n",
    "    SEQUENCE_LENGTH = 30\n",
    "    INPUT_DIM = 4\n",
    "\n",
    "    # --- Model Architecture Parameters (must match baseline) ---\n",
    "    HIDDEN_DIM = 256\n",
    "    N_LAYERS = 2\n",
    "    OUTPUT_DIM = 1\n",
    "    DROPOUT = 0.2\n",
    "    SEED = 42 # For reproducibility if agent needs loading\n",
    "\n",
    "    # --- Evaluation Parameters ---\n",
    "    EVAL_BATCH_SIZE = 64\n",
    "    CODECARBON_BATCHES = 10 # Batches for energy measurement\n",
    "    N_RUNS = 10\n",
    "\n",
    "    # --- Computation Device ---\n",
    "    # Evaluation typically runs on CPU for consistent energy metrics,\n",
    "    # but DEVICE might be needed if loading the agent requires GPU context.\n",
    "    DEVICE = torch.device(\"cuda\" if torch.cuda.is_available() else \"cpu\")\n",
    "\n",
    "# Set seeds (primarily relevant if agent needs to be loaded and predict)\n",
    "def set_seed(seed_value):\n",
    "    random.seed(seed_value)\n",
    "    np.random.seed(seed_value)\n",
    "    torch.manual_seed(seed_value)\n",
    "    if torch.cuda.is_available():\n",
    "        torch.cuda.manual_seed(seed_value)\n",
    "        torch.cuda.manual_seed_all(seed_value)\n",
    "\n",
    "\n",
    "# Set initial seed (will be reset for each run)\n",
    "set_seed(Config.SEED)\n",
    "\n",
    "\n",
    "print(f\"Configuration loaded. Evaluation device preference: CPU for metrics.\")\n",
    "print(f\"Statistical runs planned: {Config.N_RUNS}\")\n",
    "print(f\"Loading data from: {Config.PROCESSED_DATA_PATH}\")\n",
    "print(f\"Loading baseline model from: {Config.BASELINE_MODEL_PATH}\")\n",
    "print(f\"Attempting to load best action from: {Config.BEST_ACTION_PATH}\")\n",
    "print(f\"Agent path (fallback): {Config.AGENT_SAVE_PATH}\")"
   ]
  },
  {
   "cell_type": "markdown",
   "metadata": {},
   "source": [
    "# 3. Utility Functions and Model Definition"
   ]
  },
  {
   "cell_type": "code",
   "execution_count": 77,
   "metadata": {
    "execution": {
     "iopub.execute_input": "2025-10-31T16:59:40.398258Z",
     "iopub.status.busy": "2025-10-31T16:59:40.397485Z",
     "iopub.status.idle": "2025-10-31T16:59:40.415103Z",
     "shell.execute_reply": "2025-10-31T16:59:40.414473Z",
     "shell.execute_reply.started": "2025-10-31T16:59:40.398232Z"
    },
    "trusted": true
   },
   "outputs": [
    {
     "name": "stdout",
     "output_type": "stream",
     "text": [
      "Utility functions and WeatherGRU class defined.\n"
     ]
    }
   ],
   "source": [
    "# Replicated from previous notebooks for standalone execution capability.\n",
    "\n",
    "def count_parameters(model):\n",
    "    \"\"\"Counts trainable parameters.\"\"\"\n",
    "    return sum(p.numel() for p in model.parameters() if p.requires_grad)\n",
    "\n",
    "def evaluate_model(model, loader, codecarbon_batches=10):\n",
    "    \"\"\"Comprehensive evaluation (accuracy, params, flops, energy). Forces CPU execution.\"\"\"\n",
    "    model_cpu = copy.deepcopy(model).cpu()\n",
    "    device = torch.device(\"cpu\")\n",
    "    model_cpu.eval()\n",
    "    \n",
    "    \n",
    "    # --- Accuracy and Latency ---\n",
    "    y_true, y_pred = [], []\n",
    "    total_samples = 0\n",
    "    inference_start_time = time.perf_counter()\n",
    "    \n",
    "    with torch.no_grad():\n",
    "        # Use tqdm for the inference loop if dataset is large\n",
    "        inference_bar = tqdm(loader, desc=\"Running Inference\", total=len(loader), leave=False)\n",
    "        for inputs, labels in inference_bar:\n",
    "            inputs = inputs.to(device)\n",
    "            outputs = model_cpu(inputs)\n",
    "            preds = (outputs > 0.5).float()\n",
    "            y_pred.extend(preds.cpu().numpy())\n",
    "            y_true.extend(labels.cpu().numpy())\n",
    "            total_samples += len(labels)\n",
    "    inference_end_time = time.perf_counter()\n",
    "    accuracy = accuracy_score(y_true, y_pred)\n",
    "    total_duration_sec = inference_end_time - inference_start_time\n",
    "    latency_ms = (total_duration_sec / total_samples) * 1000 if total_samples > 0 else 0\n",
    "\n",
    "    # Energy and CO2 with CodeCarbon\n",
    "    energy_kwh = 0\n",
    "    co2_eq_kg = 0\n",
    "    try:\n",
    "        tracker = EmissionsTracker(log_level=\"error\", output_dir=\"/kaggle/working/\", tracking_mode=\"process\")\n",
    "        tracker.start()\n",
    "        with torch.no_grad():\n",
    "            energy_eval_bar = tqdm(loader, desc=\"Measuring Energy\", total=codecarbon_batches, leave=False)\n",
    "            batch_count = 0\n",
    "            for inputs, _ in energy_eval_bar:\n",
    "                if batch_count >= codecarbon_batches: break\n",
    "                model_cpu(inputs.to(device))\n",
    "                batch_count += 1\n",
    "        tracker.stop()\n",
    "        if tracker.final_emissions_data:\n",
    "            energy_kwh = tracker.final_emissions_data.energy_consumed or 0\n",
    "            co2_eq_kg = tracker.final_emissions_data.emissions or 0\n",
    "        else:\n",
    "            builtin_print(\"Warning: CodeCarbon tracker did not record final emissions data.\")\n",
    "    except Exception as e:\n",
    "        builtin_print(f\"Warning: CodeCarbon measurement failed - {e}\")\n",
    "\n",
    "    # Params\n",
    "    params = count_parameters(model_cpu)\n",
    "\n",
    "    # FLOPs with ptflops\n",
    "    flops = 0\n",
    "    try:\n",
    "        macs, _ = get_model_complexity_info(\n",
    "            model_cpu, (Config.SEQUENCE_LENGTH, Config.INPUT_DIM),\n",
    "            as_strings=False, print_per_layer_stat=False, verbose=False)\n",
    "        flops = macs * 2\n",
    "    except (KeyError, AttributeError, RuntimeError, TypeError):\n",
    "        # builtin_print(\"Note: Could not calculate FLOPs via ptflops (likely quantized model). Reporting 0.\")\n",
    "        flops = 0 # Report 0 for quantized models\n",
    "\n",
    "    return {\n",
    "        \"accuracy\": accuracy,\n",
    "        \"latency_ms\": latency_ms,\n",
    "        \"energy_kwh\": energy_kwh,\n",
    "        \"co2_eq_kg\": co2_eq_kg,\n",
    "        \"flops\": max(0.0, flops),\n",
    "        \"params\": max(0.0, params)\n",
    "    }\n",
    "\n",
    "def apply_l1_pruning(model, amount):\n",
    "    \"\"\"Applies L1 pruning, ignoring GRU layers. Returns CPU model.\"\"\"\n",
    "    if not (0 < amount <= 1.0): return copy.deepcopy(model).cpu()\n",
    "    model_to_prune = copy.deepcopy(model).cpu()\n",
    "    model_to_prune.eval()\n",
    "    ignored_layers = [m for m in model_to_prune.modules() if isinstance(m, nn.GRU)]\n",
    "    example_inputs = torch.randn(1, Config.SEQUENCE_LENGTH, Config.INPUT_DIM)\n",
    "    try:\n",
    "        pruner = tp.pruner.MagnitudePruner(\n",
    "            model_to_prune, example_inputs,\n",
    "            importance=tp.importance.MagnitudeImportance(p=1),\n",
    "            pruning_ratio=amount, ignored_layers=ignored_layers)\n",
    "        pruner.step()\n",
    "    except Exception as e:\n",
    "        builtin_print(f\"Error during pruning: {e}\")\n",
    "        return copy.deepcopy(model).cpu()\n",
    "    return model_to_prune\n",
    "\n",
    "def apply_dynamic_quantization(model):\n",
    "    \"\"\"Applies dynamic quantization. Returns CPU model.\"\"\"\n",
    "    try:\n",
    "        quantized_model = copy.deepcopy(model).cpu()\n",
    "        quantized_model.eval()\n",
    "        quantized_model = torch.quantization.quantize_dynamic(\n",
    "            quantized_model, {nn.GRU, nn.Linear}, dtype=torch.qint8)\n",
    "        return quantized_model\n",
    "    except Exception as e:\n",
    "         builtin_print(f\"Error during dynamic quantization: {e}\")\n",
    "         return copy.deepcopy(model).cpu()\n",
    "\n",
    "class WeatherGRU(nn.Module):\n",
    "    \"\"\"GRU model definition.\"\"\"\n",
    "    def __init__(self, input_dim, hidden_dim, n_layers, output_dim, dropout):\n",
    "        super(WeatherGRU, self).__init__()\n",
    "        self.gru = nn.GRU(input_dim, hidden_dim, n_layers,\n",
    "                          batch_first=True, dropout=dropout if n_layers > 1 else 0)\n",
    "        self.fc = nn.Linear(hidden_dim, output_dim)\n",
    "        self.sigmoid = nn.Sigmoid()\n",
    "\n",
    "    def forward(self, x):\n",
    "        gru_out, _ = self.gru(x)\n",
    "        out = self.fc(gru_out[:, -1, :])\n",
    "        return self.sigmoid(out)\n",
    "\n",
    "print(\"Utility functions and WeatherGRU class defined.\")"
   ]
  },
  {
   "cell_type": "markdown",
   "metadata": {},
   "source": [
    "# 4. Load Baseline Model, Test Data, and Calibration Data"
   ]
  },
  {
   "cell_type": "code",
   "execution_count": 78,
   "metadata": {
    "execution": {
     "iopub.execute_input": "2025-10-31T16:59:40.416098Z",
     "iopub.status.busy": "2025-10-31T16:59:40.415845Z",
     "iopub.status.idle": "2025-10-31T16:59:40.445159Z",
     "shell.execute_reply": "2025-10-31T16:59:40.444505Z",
     "shell.execute_reply.started": "2025-10-31T16:59:40.416082Z"
    },
    "trusted": true
   },
   "outputs": [
    {
     "name": "stdout",
     "output_type": "stream",
     "text": [
      "Processed test data loaded from /kaggle/input/baseline-model-saa/processed_data.pt\n",
      "Test DataLoader created.\n",
      "Baseline model state loaded from /kaggle/input/baseline-model-saa/baseline_model.pth\n",
      "Baseline model ready on CPU.\n"
     ]
    },
    {
     "name": "stderr",
     "output_type": "stream",
     "text": [
      "/tmp/ipykernel_37/3656013278.py:5: FutureWarning: You are using `torch.load` with `weights_only=False` (the current default value), which uses the default pickle module implicitly. It is possible to construct malicious pickle data which will execute arbitrary code during unpickling (See https://github.com/pytorch/pytorch/blob/main/SECURITY.md#untrusted-models for more details). In a future release, the default value for `weights_only` will be flipped to `True`. This limits the functions that could be executed during unpickling. Arbitrary objects will no longer be allowed to be loaded via this mode unless they are explicitly allowlisted by the user via `torch.serialization.add_safe_globals`. We recommend you start setting `weights_only=True` for any use case where you don't have full control of the loaded file. Please open an issue on GitHub for any issues related to this experimental feature.\n",
      "  processed_data = torch.load(Config.PROCESSED_DATA_PATH, map_location=torch.device('cpu')) # Load directly to CPU\n",
      "/tmp/ipykernel_37/3656013278.py:33: FutureWarning: You are using `torch.load` with `weights_only=False` (the current default value), which uses the default pickle module implicitly. It is possible to construct malicious pickle data which will execute arbitrary code during unpickling (See https://github.com/pytorch/pytorch/blob/main/SECURITY.md#untrusted-models for more details). In a future release, the default value for `weights_only` will be flipped to `True`. This limits the functions that could be executed during unpickling. Arbitrary objects will no longer be allowed to be loaded via this mode unless they are explicitly allowlisted by the user via `torch.serialization.add_safe_globals`. We recommend you start setting `weights_only=True` for any use case where you don't have full control of the loaded file. Please open an issue on GitHub for any issues related to this experimental feature.\n",
      "  baseline_model_structure.load_state_dict(torch.load(Config.BASELINE_MODEL_PATH, map_location=torch.device('cpu')))\n"
     ]
    }
   ],
   "source": [
    "# Loads the required artifacts: processed test data and the baseline model state.\n",
    "\n",
    "# Load processed test data tensors\n",
    "try:\n",
    "    processed_data = torch.load(Config.PROCESSED_DATA_PATH, map_location=torch.device('cpu')) # Load directly to CPU\n",
    "    X_test_tensor = processed_data['X_test']\n",
    "    y_test_tensor = processed_data['y_test']\n",
    "    builtin_print(f\"Processed test data loaded from {Config.PROCESSED_DATA_PATH}\")\n",
    "except FileNotFoundError:\n",
    "    builtin_print(f\"Error: Processed data file not found at {Config.PROCESSED_DATA_PATH}. Please run train_baseline.ipynb first.\")\n",
    "    raise\n",
    "except Exception as e:\n",
    "    builtin_print(f\"Error loading processed data: {e}\")\n",
    "    raise\n",
    "\n",
    "# Create Test DataLoader\n",
    "test_dataset = TensorDataset(X_test_tensor, y_test_tensor)\n",
    "# Use a larger batch size for potentially faster evaluation if memory allows\n",
    "test_loader = DataLoader(test_dataset, batch_size=Config.EVAL_BATCH_SIZE * 2, shuffle=False)\n",
    "builtin_print(\"Test DataLoader created.\")\n",
    "\n",
    "# Initialize the GRU model structure\n",
    "baseline_model_structure = WeatherGRU(\n",
    "    input_dim=Config.INPUT_DIM,\n",
    "    hidden_dim=Config.HIDDEN_DIM,\n",
    "    n_layers=Config.N_LAYERS,\n",
    "    output_dim=Config.OUTPUT_DIM,\n",
    "    dropout=Config.DROPOUT\n",
    ")\n",
    "\n",
    "# Load the trained baseline model state dictionary onto the CPU\n",
    "try:\n",
    "    baseline_model_structure.load_state_dict(torch.load(Config.BASELINE_MODEL_PATH, map_location=torch.device('cpu')))\n",
    "    baseline_model_structure.eval() # Set to evaluation mode\n",
    "    builtin_print(f\"Baseline model state loaded from {Config.BASELINE_MODEL_PATH}\")\n",
    "except FileNotFoundError:\n",
    "    builtin_print(f\"Error: Baseline model file not found at {Config.BASELINE_MODEL_PATH}. Please run train_baseline.ipynb first.\")\n",
    "    raise\n",
    "except Exception as e:\n",
    "    builtin_print(f\"Error loading baseline model state: {e}\")\n",
    "    raise\n",
    "\n",
    "# Keep a clean copy of the loaded baseline model on the CPU\n",
    "baseline_model_cpu = baseline_model_structure.cpu()\n",
    "print(\"Baseline model ready on CPU.\")"
   ]
  },
  {
   "cell_type": "markdown",
   "metadata": {},
   "source": [
    "# 5. Determine Best Action from Agent"
   ]
  },
  {
   "cell_type": "code",
   "execution_count": 79,
   "metadata": {
    "execution": {
     "iopub.execute_input": "2025-10-31T16:59:40.446006Z",
     "iopub.status.busy": "2025-10-31T16:59:40.445809Z",
     "iopub.status.idle": "2025-10-31T16:59:40.459006Z",
     "shell.execute_reply": "2025-10-31T16:59:40.458346Z",
     "shell.execute_reply.started": "2025-10-31T16:59:40.445969Z"
    },
    "trusted": true
   },
   "outputs": [
    {
     "name": "stdout",
     "output_type": "stream",
     "text": [
      "Best action info successfully loaded from /kaggle/input/train-rl-agent-done/best_action.json:\n",
      "  Source: history_max_reward\n",
      "  Pruning: 30%\n",
      "  Quantized: True\n",
      "  Originating Action Code: 11\n"
     ]
    }
   ],
   "source": [
    "# Loads the best action details (pruning ratio, quantization) determined by the RL agent.\n",
    "# It prioritizes loading from the JSON file saved by train_rl_agent.ipynb.\n",
    "# If the JSON is unavailable, it attempts to load the saved PPO agent and predict the action.\n",
    "\n",
    "best_action_info = None\n",
    "\n",
    "# --- Attempt 1: Load from JSON file ---\n",
    "try:\n",
    "    with open(Config.BEST_ACTION_PATH, 'r') as f:\n",
    "        best_action_info = json.load(f)\n",
    "        # Basic validation of the loaded data\n",
    "        if 'pruning_amount' in best_action_info and 'quantized' in best_action_info:\n",
    "             builtin_print(f\"Best action info successfully loaded from {Config.BEST_ACTION_PATH}:\")\n",
    "             builtin_print(f\"  Source: {best_action_info.get('source', 'Unknown')}\")\n",
    "             builtin_print(f\"  Pruning: {best_action_info['pruning_amount']*100:.0f}%\")\n",
    "             builtin_print(f\"  Quantized: {best_action_info['quantized']}\")\n",
    "             if 'action_code' in best_action_info:\n",
    "                 builtin_print(f\"  Originating Action Code: {best_action_info['action_code']}\")\n",
    "        else:\n",
    "             builtin_print(f\"Warning: JSON file {Config.BEST_ACTION_PATH} is missing required keys ('pruning_amount', 'quantized'). Will attempt agent loading.\")\n",
    "             best_action_info = None # Invalidate if keys are missing\n",
    "except FileNotFoundError:\n",
    "    builtin_print(f\"Info: Best action JSON file not found at {Config.BEST_ACTION_PATH}. Proceeding to load agent for prediction.\")\n",
    "except json.JSONDecodeError:\n",
    "     builtin_print(f\"Error: Could not decode JSON from {Config.BEST_ACTION_PATH}. File might be corrupted. Proceeding to load agent.\")\n",
    "except Exception as e:\n",
    "    builtin_print(f\"Error loading best action JSON: {e}. Proceeding to load agent.\")\n",
    "\n",
    "# --- Attempt 2: Load Agent and Predict (Fallback) ---\n",
    "if best_action_info is None:\n",
    "    builtin_print(f\"\\n--- Attempting to load trained agent from {Config.AGENT_SAVE_PATH} to predict best action ---\")\n",
    "    try:\n",
    "        # Define necessary parameters for a minimal environment mock, needed for PPO.load()\n",
    "        dummy_pruning_levels = [0.0, 0.1, 0.2, 0.3, 0.4, 0.5, 0.6, 0.7]\n",
    "        dummy_action_space = spaces.Discrete(len(dummy_pruning_levels) * 2)\n",
    "        dummy_obs_space = spaces.Box(low=np.array([0.0, -1.0, 0.0, 0.0]), high=np.array([1.0, 1.0, 1.0, 1.0]), dtype=np.float32)\n",
    "\n",
    "        # Minimal mock environment class\n",
    "        class MockEnv(gym.Env):\n",
    "            def __init__(self):\n",
    "                super().__init__(); self.action_space = dummy_action_space; self.observation_space = dummy_obs_space\n",
    "            def step(self, action): pass\n",
    "            def reset(self, seed=None, options=None):\n",
    "                super().reset(seed=seed); return np.array([0.6, 0.0, 0.0, 0.0], dtype=np.float32), {} # Plausible initial state\n",
    "            def render(self): pass\n",
    "            def close(self): pass\n",
    "\n",
    "        mock_env_instance = MockEnv()\n",
    "\n",
    "        # Load the PPO agent onto the CPU\n",
    "        agent = PPO.load(Config.AGENT_SAVE_PATH, env=mock_env_instance, device='cpu')\n",
    "        builtin_print(\"Agent loaded successfully onto CPU.\")\n",
    "\n",
    "        # Get initial observation from the mock environment\n",
    "        obs, _ = mock_env_instance.reset()\n",
    "\n",
    "        # Predict the action deterministically using the loaded agent's policy\n",
    "        action_pred, _ = agent.predict(obs, deterministic=True)\n",
    "        action_code_pred = action_pred.item()\n",
    "        builtin_print(f\"Agent predicted best action code: {action_code_pred}\")\n",
    "\n",
    "        # Decode the predicted action code\n",
    "        n_pruning_levels = len(dummy_pruning_levels)\n",
    "        pruning_idx_pred = action_code_pred % n_pruning_levels\n",
    "        pruning_amount_pred = dummy_pruning_levels[pruning_idx_pred]\n",
    "        quantized_pred = action_code_pred >= n_pruning_levels\n",
    "\n",
    "        # Store the derived action information\n",
    "        best_action_info = {\n",
    "            'source': 'agent_prediction_fallback',\n",
    "            'action_code': action_code_pred,\n",
    "            'pruning_amount': pruning_amount_pred,\n",
    "            'quantized': quantized_pred\n",
    "        }\n",
    "        builtin_print(f\"  Decoded Action -> Pruning: {pruning_amount_pred*100:.0f}%, Quantized: {quantized_pred}\")\n",
    "\n",
    "    except FileNotFoundError:\n",
    "        builtin_print(f\"Error: Agent file not found at {Config.AGENT_SAVE_PATH}. Cannot evaluate agent-optimized solution.\")\n",
    "        best_action_info = None # Ensure it remains None if agent loading fails\n",
    "    except Exception as e:\n",
    "        builtin_print(f\"Error loading agent or predicting action: {e}. Cannot evaluate agent-optimized solution.\")\n",
    "        best_action_info = None\n",
    "\n",
    "# Final check\n",
    "if best_action_info is None:\n",
    "     builtin_print(\"\\nWarning: Could not determine the agent's best action from JSON or agent prediction.\")"
   ]
  },
  {
   "cell_type": "markdown",
   "metadata": {},
   "source": [
    "# 6. Run Full Benchmark Comparison"
   ]
  },
  {
   "cell_type": "code",
   "execution_count": 80,
   "metadata": {
    "execution": {
     "iopub.execute_input": "2025-10-31T16:59:40.460096Z",
     "iopub.status.busy": "2025-10-31T16:59:40.459863Z",
     "iopub.status.idle": "2025-10-31T17:02:58.871707Z",
     "shell.execute_reply": "2025-10-31T17:02:58.870996Z",
     "shell.execute_reply.started": "2025-10-31T16:59:40.460079Z"
    },
    "trusted": true
   },
   "outputs": [
    {
     "name": "stdout",
     "output_type": "stream",
     "text": [
      "\n",
      "--- Starting 10 Statistical Benchmark Runs ---\n",
      "\n",
      "--- STATISTICAL RUN 1/10 (Seed: 42) ---\n",
      "\n",
      "--- Starting Full Benchmark Evaluation ---\n",
      "\n",
      "--- Evaluating: Baseline Model ---\n"
     ]
    },
    {
     "data": {
      "application/vnd.jupyter.widget-view+json": {
       "model_id": "",
       "version_major": 2,
       "version_minor": 0
      },
      "text/plain": [
       "Running Inference:   0%|          | 0/3 [00:00<?, ?it/s]"
      ]
     },
     "metadata": {},
     "output_type": "display_data"
    },
    {
     "data": {
      "application/vnd.jupyter.widget-view+json": {
       "model_id": "7049e4f0d66445e8be1a866df4beef9d",
       "version_major": 2,
       "version_minor": 0
      },
      "text/plain": [
       "Measuring Energy:   0%|          | 0/10 [00:00<?, ?it/s]"
      ]
     },
     "metadata": {},
     "output_type": "display_data"
    },
    {
     "name": "stdout",
     "output_type": "stream",
     "text": [
      "  Baseline evaluation complete.\n",
      "\n",
      "--- Evaluating: Manual Pruning (50%) ---\n"
     ]
    },
    {
     "data": {
      "application/vnd.jupyter.widget-view+json": {
       "model_id": "",
       "version_major": 2,
       "version_minor": 0
      },
      "text/plain": [
       "Running Inference:   0%|          | 0/3 [00:00<?, ?it/s]"
      ]
     },
     "metadata": {},
     "output_type": "display_data"
    },
    {
     "data": {
      "application/vnd.jupyter.widget-view+json": {
       "model_id": "f37194ab487c45b7b76ad5673b5965e5",
       "version_major": 2,
       "version_minor": 0
      },
      "text/plain": [
       "Measuring Energy:   0%|          | 0/10 [00:00<?, ?it/s]"
      ]
     },
     "metadata": {},
     "output_type": "display_data"
    },
    {
     "name": "stdout",
     "output_type": "stream",
     "text": [
      "  Manual pruning evaluation complete.\n",
      "\n",
      "--- Evaluating: Manual Quantization ---\n"
     ]
    },
    {
     "data": {
      "application/vnd.jupyter.widget-view+json": {
       "model_id": "",
       "version_major": 2,
       "version_minor": 0
      },
      "text/plain": [
       "Running Inference:   0%|          | 0/3 [00:00<?, ?it/s]"
      ]
     },
     "metadata": {},
     "output_type": "display_data"
    },
    {
     "data": {
      "application/vnd.jupyter.widget-view+json": {
       "model_id": "0f014fa33e9b422ba3b2e0bc55e7df9f",
       "version_major": 2,
       "version_minor": 0
      },
      "text/plain": [
       "Measuring Energy:   0%|          | 0/10 [00:00<?, ?it/s]"
      ]
     },
     "metadata": {},
     "output_type": "display_data"
    },
    {
     "name": "stdout",
     "output_type": "stream",
     "text": [
      "  Manual quantization evaluation complete.\n",
      "\n",
      "--- Evaluating: Agent Optimized Model ---\n",
      "  Applying Agent's strategy (Action: 11): Pruning 30%, Quantized: True\n"
     ]
    },
    {
     "data": {
      "application/vnd.jupyter.widget-view+json": {
       "model_id": "",
       "version_major": 2,
       "version_minor": 0
      },
      "text/plain": [
       "Running Inference:   0%|          | 0/3 [00:00<?, ?it/s]"
      ]
     },
     "metadata": {},
     "output_type": "display_data"
    },
    {
     "data": {
      "application/vnd.jupyter.widget-view+json": {
       "model_id": "9710f8668b7f43abab13edae50c57c63",
       "version_major": 2,
       "version_minor": 0
      },
      "text/plain": [
       "Measuring Energy:   0%|          | 0/10 [00:00<?, ?it/s]"
      ]
     },
     "metadata": {},
     "output_type": "display_data"
    },
    {
     "name": "stdout",
     "output_type": "stream",
     "text": [
      "  Agent optimized evaluation complete.\n",
      "\n",
      "--- Benchmark Evaluation Finished ---\n",
      "\n",
      "--- STATISTICAL RUN 2/10 (Seed: 41) ---\n",
      "\n",
      "--- Starting Full Benchmark Evaluation ---\n",
      "\n",
      "--- Evaluating: Baseline Model ---\n"
     ]
    },
    {
     "data": {
      "application/vnd.jupyter.widget-view+json": {
       "model_id": "",
       "version_major": 2,
       "version_minor": 0
      },
      "text/plain": [
       "Running Inference:   0%|          | 0/3 [00:00<?, ?it/s]"
      ]
     },
     "metadata": {},
     "output_type": "display_data"
    },
    {
     "data": {
      "application/vnd.jupyter.widget-view+json": {
       "model_id": "8d614b3a102a4db7a38b051b85110ae8",
       "version_major": 2,
       "version_minor": 0
      },
      "text/plain": [
       "Measuring Energy:   0%|          | 0/10 [00:00<?, ?it/s]"
      ]
     },
     "metadata": {},
     "output_type": "display_data"
    },
    {
     "name": "stdout",
     "output_type": "stream",
     "text": [
      "  Baseline evaluation complete.\n",
      "\n",
      "--- Evaluating: Manual Pruning (50%) ---\n"
     ]
    },
    {
     "data": {
      "application/vnd.jupyter.widget-view+json": {
       "model_id": "",
       "version_major": 2,
       "version_minor": 0
      },
      "text/plain": [
       "Running Inference:   0%|          | 0/3 [00:00<?, ?it/s]"
      ]
     },
     "metadata": {},
     "output_type": "display_data"
    },
    {
     "data": {
      "application/vnd.jupyter.widget-view+json": {
       "model_id": "8128a1dd55314074b5321c3ad6babff3",
       "version_major": 2,
       "version_minor": 0
      },
      "text/plain": [
       "Measuring Energy:   0%|          | 0/10 [00:00<?, ?it/s]"
      ]
     },
     "metadata": {},
     "output_type": "display_data"
    },
    {
     "name": "stdout",
     "output_type": "stream",
     "text": [
      "  Manual pruning evaluation complete.\n",
      "\n",
      "--- Evaluating: Manual Quantization ---\n"
     ]
    },
    {
     "data": {
      "application/vnd.jupyter.widget-view+json": {
       "model_id": "",
       "version_major": 2,
       "version_minor": 0
      },
      "text/plain": [
       "Running Inference:   0%|          | 0/3 [00:00<?, ?it/s]"
      ]
     },
     "metadata": {},
     "output_type": "display_data"
    },
    {
     "data": {
      "application/vnd.jupyter.widget-view+json": {
       "model_id": "115f1c70bf3947cd893cf24230e7a600",
       "version_major": 2,
       "version_minor": 0
      },
      "text/plain": [
       "Measuring Energy:   0%|          | 0/10 [00:00<?, ?it/s]"
      ]
     },
     "metadata": {},
     "output_type": "display_data"
    },
    {
     "name": "stdout",
     "output_type": "stream",
     "text": [
      "  Manual quantization evaluation complete.\n",
      "\n",
      "--- Evaluating: Agent Optimized Model ---\n",
      "  Applying Agent's strategy (Action: 11): Pruning 30%, Quantized: True\n"
     ]
    },
    {
     "data": {
      "application/vnd.jupyter.widget-view+json": {
       "model_id": "",
       "version_major": 2,
       "version_minor": 0
      },
      "text/plain": [
       "Running Inference:   0%|          | 0/3 [00:00<?, ?it/s]"
      ]
     },
     "metadata": {},
     "output_type": "display_data"
    },
    {
     "data": {
      "application/vnd.jupyter.widget-view+json": {
       "model_id": "e33b71fbe935473dbfa9eae2af4b1a4e",
       "version_major": 2,
       "version_minor": 0
      },
      "text/plain": [
       "Measuring Energy:   0%|          | 0/10 [00:00<?, ?it/s]"
      ]
     },
     "metadata": {},
     "output_type": "display_data"
    },
    {
     "name": "stdout",
     "output_type": "stream",
     "text": [
      "  Agent optimized evaluation complete.\n",
      "\n",
      "--- Benchmark Evaluation Finished ---\n",
      "\n",
      "--- STATISTICAL RUN 3/10 (Seed: 40) ---\n",
      "\n",
      "--- Starting Full Benchmark Evaluation ---\n",
      "\n",
      "--- Evaluating: Baseline Model ---\n"
     ]
    },
    {
     "data": {
      "application/vnd.jupyter.widget-view+json": {
       "model_id": "",
       "version_major": 2,
       "version_minor": 0
      },
      "text/plain": [
       "Running Inference:   0%|          | 0/3 [00:00<?, ?it/s]"
      ]
     },
     "metadata": {},
     "output_type": "display_data"
    },
    {
     "data": {
      "application/vnd.jupyter.widget-view+json": {
       "model_id": "b32a8abb41774368ac51eaeffd75748e",
       "version_major": 2,
       "version_minor": 0
      },
      "text/plain": [
       "Measuring Energy:   0%|          | 0/10 [00:00<?, ?it/s]"
      ]
     },
     "metadata": {},
     "output_type": "display_data"
    },
    {
     "name": "stdout",
     "output_type": "stream",
     "text": [
      "  Baseline evaluation complete.\n",
      "\n",
      "--- Evaluating: Manual Pruning (50%) ---\n"
     ]
    },
    {
     "data": {
      "application/vnd.jupyter.widget-view+json": {
       "model_id": "",
       "version_major": 2,
       "version_minor": 0
      },
      "text/plain": [
       "Running Inference:   0%|          | 0/3 [00:00<?, ?it/s]"
      ]
     },
     "metadata": {},
     "output_type": "display_data"
    },
    {
     "data": {
      "application/vnd.jupyter.widget-view+json": {
       "model_id": "9d67607918dd4bdaa7f15149577a2f58",
       "version_major": 2,
       "version_minor": 0
      },
      "text/plain": [
       "Measuring Energy:   0%|          | 0/10 [00:00<?, ?it/s]"
      ]
     },
     "metadata": {},
     "output_type": "display_data"
    },
    {
     "name": "stdout",
     "output_type": "stream",
     "text": [
      "  Manual pruning evaluation complete.\n",
      "\n",
      "--- Evaluating: Manual Quantization ---\n"
     ]
    },
    {
     "data": {
      "application/vnd.jupyter.widget-view+json": {
       "model_id": "",
       "version_major": 2,
       "version_minor": 0
      },
      "text/plain": [
       "Running Inference:   0%|          | 0/3 [00:00<?, ?it/s]"
      ]
     },
     "metadata": {},
     "output_type": "display_data"
    },
    {
     "data": {
      "application/vnd.jupyter.widget-view+json": {
       "model_id": "9bc037f91b38485f8cce563a1a1a74ba",
       "version_major": 2,
       "version_minor": 0
      },
      "text/plain": [
       "Measuring Energy:   0%|          | 0/10 [00:00<?, ?it/s]"
      ]
     },
     "metadata": {},
     "output_type": "display_data"
    },
    {
     "name": "stdout",
     "output_type": "stream",
     "text": [
      "  Manual quantization evaluation complete.\n",
      "\n",
      "--- Evaluating: Agent Optimized Model ---\n",
      "  Applying Agent's strategy (Action: 11): Pruning 30%, Quantized: True\n"
     ]
    },
    {
     "data": {
      "application/vnd.jupyter.widget-view+json": {
       "model_id": "",
       "version_major": 2,
       "version_minor": 0
      },
      "text/plain": [
       "Running Inference:   0%|          | 0/3 [00:00<?, ?it/s]"
      ]
     },
     "metadata": {},
     "output_type": "display_data"
    },
    {
     "data": {
      "application/vnd.jupyter.widget-view+json": {
       "model_id": "32767dce07c54216a449620f1a739d9d",
       "version_major": 2,
       "version_minor": 0
      },
      "text/plain": [
       "Measuring Energy:   0%|          | 0/10 [00:00<?, ?it/s]"
      ]
     },
     "metadata": {},
     "output_type": "display_data"
    },
    {
     "name": "stdout",
     "output_type": "stream",
     "text": [
      "  Agent optimized evaluation complete.\n",
      "\n",
      "--- Benchmark Evaluation Finished ---\n",
      "\n",
      "--- STATISTICAL RUN 4/10 (Seed: 39) ---\n",
      "\n",
      "--- Starting Full Benchmark Evaluation ---\n",
      "\n",
      "--- Evaluating: Baseline Model ---\n"
     ]
    },
    {
     "data": {
      "application/vnd.jupyter.widget-view+json": {
       "model_id": "",
       "version_major": 2,
       "version_minor": 0
      },
      "text/plain": [
       "Running Inference:   0%|          | 0/3 [00:00<?, ?it/s]"
      ]
     },
     "metadata": {},
     "output_type": "display_data"
    },
    {
     "data": {
      "application/vnd.jupyter.widget-view+json": {
       "model_id": "eeaa45a5779c4a5eba8e517678d8080c",
       "version_major": 2,
       "version_minor": 0
      },
      "text/plain": [
       "Measuring Energy:   0%|          | 0/10 [00:00<?, ?it/s]"
      ]
     },
     "metadata": {},
     "output_type": "display_data"
    },
    {
     "name": "stdout",
     "output_type": "stream",
     "text": [
      "  Baseline evaluation complete.\n",
      "\n",
      "--- Evaluating: Manual Pruning (50%) ---\n"
     ]
    },
    {
     "data": {
      "application/vnd.jupyter.widget-view+json": {
       "model_id": "",
       "version_major": 2,
       "version_minor": 0
      },
      "text/plain": [
       "Running Inference:   0%|          | 0/3 [00:00<?, ?it/s]"
      ]
     },
     "metadata": {},
     "output_type": "display_data"
    },
    {
     "data": {
      "application/vnd.jupyter.widget-view+json": {
       "model_id": "b384704edff3497db45637dc2e62dafb",
       "version_major": 2,
       "version_minor": 0
      },
      "text/plain": [
       "Measuring Energy:   0%|          | 0/10 [00:00<?, ?it/s]"
      ]
     },
     "metadata": {},
     "output_type": "display_data"
    },
    {
     "name": "stdout",
     "output_type": "stream",
     "text": [
      "  Manual pruning evaluation complete.\n",
      "\n",
      "--- Evaluating: Manual Quantization ---\n"
     ]
    },
    {
     "data": {
      "application/vnd.jupyter.widget-view+json": {
       "model_id": "",
       "version_major": 2,
       "version_minor": 0
      },
      "text/plain": [
       "Running Inference:   0%|          | 0/3 [00:00<?, ?it/s]"
      ]
     },
     "metadata": {},
     "output_type": "display_data"
    },
    {
     "data": {
      "application/vnd.jupyter.widget-view+json": {
       "model_id": "95670cbb92fc4b93a1005c9e254b8cfc",
       "version_major": 2,
       "version_minor": 0
      },
      "text/plain": [
       "Measuring Energy:   0%|          | 0/10 [00:00<?, ?it/s]"
      ]
     },
     "metadata": {},
     "output_type": "display_data"
    },
    {
     "name": "stdout",
     "output_type": "stream",
     "text": [
      "  Manual quantization evaluation complete.\n",
      "\n",
      "--- Evaluating: Agent Optimized Model ---\n",
      "  Applying Agent's strategy (Action: 11): Pruning 30%, Quantized: True\n"
     ]
    },
    {
     "data": {
      "application/vnd.jupyter.widget-view+json": {
       "model_id": "",
       "version_major": 2,
       "version_minor": 0
      },
      "text/plain": [
       "Running Inference:   0%|          | 0/3 [00:00<?, ?it/s]"
      ]
     },
     "metadata": {},
     "output_type": "display_data"
    },
    {
     "data": {
      "application/vnd.jupyter.widget-view+json": {
       "model_id": "17c3024334e14383993383953543d6bb",
       "version_major": 2,
       "version_minor": 0
      },
      "text/plain": [
       "Measuring Energy:   0%|          | 0/10 [00:00<?, ?it/s]"
      ]
     },
     "metadata": {},
     "output_type": "display_data"
    },
    {
     "name": "stdout",
     "output_type": "stream",
     "text": [
      "  Agent optimized evaluation complete.\n",
      "\n",
      "--- Benchmark Evaluation Finished ---\n",
      "\n",
      "--- STATISTICAL RUN 5/10 (Seed: 38) ---\n",
      "\n",
      "--- Starting Full Benchmark Evaluation ---\n",
      "\n",
      "--- Evaluating: Baseline Model ---\n"
     ]
    },
    {
     "data": {
      "application/vnd.jupyter.widget-view+json": {
       "model_id": "",
       "version_major": 2,
       "version_minor": 0
      },
      "text/plain": [
       "Running Inference:   0%|          | 0/3 [00:00<?, ?it/s]"
      ]
     },
     "metadata": {},
     "output_type": "display_data"
    },
    {
     "data": {
      "application/vnd.jupyter.widget-view+json": {
       "model_id": "9c50382fd86046d494b025a16c268349",
       "version_major": 2,
       "version_minor": 0
      },
      "text/plain": [
       "Measuring Energy:   0%|          | 0/10 [00:00<?, ?it/s]"
      ]
     },
     "metadata": {},
     "output_type": "display_data"
    },
    {
     "name": "stdout",
     "output_type": "stream",
     "text": [
      "  Baseline evaluation complete.\n",
      "\n",
      "--- Evaluating: Manual Pruning (50%) ---\n"
     ]
    },
    {
     "data": {
      "application/vnd.jupyter.widget-view+json": {
       "model_id": "",
       "version_major": 2,
       "version_minor": 0
      },
      "text/plain": [
       "Running Inference:   0%|          | 0/3 [00:00<?, ?it/s]"
      ]
     },
     "metadata": {},
     "output_type": "display_data"
    },
    {
     "data": {
      "application/vnd.jupyter.widget-view+json": {
       "model_id": "ae5fcedcc0cd45a69b9e835d8956959e",
       "version_major": 2,
       "version_minor": 0
      },
      "text/plain": [
       "Measuring Energy:   0%|          | 0/10 [00:00<?, ?it/s]"
      ]
     },
     "metadata": {},
     "output_type": "display_data"
    },
    {
     "name": "stdout",
     "output_type": "stream",
     "text": [
      "  Manual pruning evaluation complete.\n",
      "\n",
      "--- Evaluating: Manual Quantization ---\n"
     ]
    },
    {
     "data": {
      "application/vnd.jupyter.widget-view+json": {
       "model_id": "",
       "version_major": 2,
       "version_minor": 0
      },
      "text/plain": [
       "Running Inference:   0%|          | 0/3 [00:00<?, ?it/s]"
      ]
     },
     "metadata": {},
     "output_type": "display_data"
    },
    {
     "data": {
      "application/vnd.jupyter.widget-view+json": {
       "model_id": "73df29cb071d4bc08dec4b31f6c66adb",
       "version_major": 2,
       "version_minor": 0
      },
      "text/plain": [
       "Measuring Energy:   0%|          | 0/10 [00:00<?, ?it/s]"
      ]
     },
     "metadata": {},
     "output_type": "display_data"
    },
    {
     "name": "stdout",
     "output_type": "stream",
     "text": [
      "  Manual quantization evaluation complete.\n",
      "\n",
      "--- Evaluating: Agent Optimized Model ---\n",
      "  Applying Agent's strategy (Action: 11): Pruning 30%, Quantized: True\n"
     ]
    },
    {
     "data": {
      "application/vnd.jupyter.widget-view+json": {
       "model_id": "",
       "version_major": 2,
       "version_minor": 0
      },
      "text/plain": [
       "Running Inference:   0%|          | 0/3 [00:00<?, ?it/s]"
      ]
     },
     "metadata": {},
     "output_type": "display_data"
    },
    {
     "data": {
      "application/vnd.jupyter.widget-view+json": {
       "model_id": "04860dfb6a0d4d43abdb156c76d5e557",
       "version_major": 2,
       "version_minor": 0
      },
      "text/plain": [
       "Measuring Energy:   0%|          | 0/10 [00:00<?, ?it/s]"
      ]
     },
     "metadata": {},
     "output_type": "display_data"
    },
    {
     "name": "stdout",
     "output_type": "stream",
     "text": [
      "  Agent optimized evaluation complete.\n",
      "\n",
      "--- Benchmark Evaluation Finished ---\n",
      "\n",
      "--- STATISTICAL RUN 6/10 (Seed: 37) ---\n",
      "\n",
      "--- Starting Full Benchmark Evaluation ---\n",
      "\n",
      "--- Evaluating: Baseline Model ---\n"
     ]
    },
    {
     "data": {
      "application/vnd.jupyter.widget-view+json": {
       "model_id": "",
       "version_major": 2,
       "version_minor": 0
      },
      "text/plain": [
       "Running Inference:   0%|          | 0/3 [00:00<?, ?it/s]"
      ]
     },
     "metadata": {},
     "output_type": "display_data"
    },
    {
     "data": {
      "application/vnd.jupyter.widget-view+json": {
       "model_id": "25e1735c358741f486c4fde691eebfd2",
       "version_major": 2,
       "version_minor": 0
      },
      "text/plain": [
       "Measuring Energy:   0%|          | 0/10 [00:00<?, ?it/s]"
      ]
     },
     "metadata": {},
     "output_type": "display_data"
    },
    {
     "name": "stdout",
     "output_type": "stream",
     "text": [
      "  Baseline evaluation complete.\n",
      "\n",
      "--- Evaluating: Manual Pruning (50%) ---\n"
     ]
    },
    {
     "data": {
      "application/vnd.jupyter.widget-view+json": {
       "model_id": "",
       "version_major": 2,
       "version_minor": 0
      },
      "text/plain": [
       "Running Inference:   0%|          | 0/3 [00:00<?, ?it/s]"
      ]
     },
     "metadata": {},
     "output_type": "display_data"
    },
    {
     "data": {
      "application/vnd.jupyter.widget-view+json": {
       "model_id": "4a1540e3c6904224861dcd6177c2ab60",
       "version_major": 2,
       "version_minor": 0
      },
      "text/plain": [
       "Measuring Energy:   0%|          | 0/10 [00:00<?, ?it/s]"
      ]
     },
     "metadata": {},
     "output_type": "display_data"
    },
    {
     "name": "stdout",
     "output_type": "stream",
     "text": [
      "  Manual pruning evaluation complete.\n",
      "\n",
      "--- Evaluating: Manual Quantization ---\n"
     ]
    },
    {
     "data": {
      "application/vnd.jupyter.widget-view+json": {
       "model_id": "",
       "version_major": 2,
       "version_minor": 0
      },
      "text/plain": [
       "Running Inference:   0%|          | 0/3 [00:00<?, ?it/s]"
      ]
     },
     "metadata": {},
     "output_type": "display_data"
    },
    {
     "data": {
      "application/vnd.jupyter.widget-view+json": {
       "model_id": "9df2c8fcc033444f8f91ccb183213c87",
       "version_major": 2,
       "version_minor": 0
      },
      "text/plain": [
       "Measuring Energy:   0%|          | 0/10 [00:00<?, ?it/s]"
      ]
     },
     "metadata": {},
     "output_type": "display_data"
    },
    {
     "name": "stdout",
     "output_type": "stream",
     "text": [
      "  Manual quantization evaluation complete.\n",
      "\n",
      "--- Evaluating: Agent Optimized Model ---\n",
      "  Applying Agent's strategy (Action: 11): Pruning 30%, Quantized: True\n"
     ]
    },
    {
     "data": {
      "application/vnd.jupyter.widget-view+json": {
       "model_id": "",
       "version_major": 2,
       "version_minor": 0
      },
      "text/plain": [
       "Running Inference:   0%|          | 0/3 [00:00<?, ?it/s]"
      ]
     },
     "metadata": {},
     "output_type": "display_data"
    },
    {
     "data": {
      "application/vnd.jupyter.widget-view+json": {
       "model_id": "690eab2c38d24e44a3f69f21a3d1e5a0",
       "version_major": 2,
       "version_minor": 0
      },
      "text/plain": [
       "Measuring Energy:   0%|          | 0/10 [00:00<?, ?it/s]"
      ]
     },
     "metadata": {},
     "output_type": "display_data"
    },
    {
     "name": "stdout",
     "output_type": "stream",
     "text": [
      "  Agent optimized evaluation complete.\n",
      "\n",
      "--- Benchmark Evaluation Finished ---\n",
      "\n",
      "--- STATISTICAL RUN 7/10 (Seed: 36) ---\n",
      "\n",
      "--- Starting Full Benchmark Evaluation ---\n",
      "\n",
      "--- Evaluating: Baseline Model ---\n"
     ]
    },
    {
     "data": {
      "application/vnd.jupyter.widget-view+json": {
       "model_id": "",
       "version_major": 2,
       "version_minor": 0
      },
      "text/plain": [
       "Running Inference:   0%|          | 0/3 [00:00<?, ?it/s]"
      ]
     },
     "metadata": {},
     "output_type": "display_data"
    },
    {
     "data": {
      "application/vnd.jupyter.widget-view+json": {
       "model_id": "f5fb8f62f607403e9ee29a6e2db1ca90",
       "version_major": 2,
       "version_minor": 0
      },
      "text/plain": [
       "Measuring Energy:   0%|          | 0/10 [00:00<?, ?it/s]"
      ]
     },
     "metadata": {},
     "output_type": "display_data"
    },
    {
     "name": "stdout",
     "output_type": "stream",
     "text": [
      "  Baseline evaluation complete.\n",
      "\n",
      "--- Evaluating: Manual Pruning (50%) ---\n"
     ]
    },
    {
     "data": {
      "application/vnd.jupyter.widget-view+json": {
       "model_id": "",
       "version_major": 2,
       "version_minor": 0
      },
      "text/plain": [
       "Running Inference:   0%|          | 0/3 [00:00<?, ?it/s]"
      ]
     },
     "metadata": {},
     "output_type": "display_data"
    },
    {
     "data": {
      "application/vnd.jupyter.widget-view+json": {
       "model_id": "40bbed7bf3e6418dbdec1f2a87648430",
       "version_major": 2,
       "version_minor": 0
      },
      "text/plain": [
       "Measuring Energy:   0%|          | 0/10 [00:00<?, ?it/s]"
      ]
     },
     "metadata": {},
     "output_type": "display_data"
    },
    {
     "name": "stdout",
     "output_type": "stream",
     "text": [
      "  Manual pruning evaluation complete.\n",
      "\n",
      "--- Evaluating: Manual Quantization ---\n"
     ]
    },
    {
     "data": {
      "application/vnd.jupyter.widget-view+json": {
       "model_id": "",
       "version_major": 2,
       "version_minor": 0
      },
      "text/plain": [
       "Running Inference:   0%|          | 0/3 [00:00<?, ?it/s]"
      ]
     },
     "metadata": {},
     "output_type": "display_data"
    },
    {
     "data": {
      "application/vnd.jupyter.widget-view+json": {
       "model_id": "f3e7eb90780b4115b56d8d51966cb28a",
       "version_major": 2,
       "version_minor": 0
      },
      "text/plain": [
       "Measuring Energy:   0%|          | 0/10 [00:00<?, ?it/s]"
      ]
     },
     "metadata": {},
     "output_type": "display_data"
    },
    {
     "name": "stdout",
     "output_type": "stream",
     "text": [
      "  Manual quantization evaluation complete.\n",
      "\n",
      "--- Evaluating: Agent Optimized Model ---\n",
      "  Applying Agent's strategy (Action: 11): Pruning 30%, Quantized: True\n"
     ]
    },
    {
     "data": {
      "application/vnd.jupyter.widget-view+json": {
       "model_id": "",
       "version_major": 2,
       "version_minor": 0
      },
      "text/plain": [
       "Running Inference:   0%|          | 0/3 [00:00<?, ?it/s]"
      ]
     },
     "metadata": {},
     "output_type": "display_data"
    },
    {
     "data": {
      "application/vnd.jupyter.widget-view+json": {
       "model_id": "4337e503de7344b7b9b0d8e8ee069f72",
       "version_major": 2,
       "version_minor": 0
      },
      "text/plain": [
       "Measuring Energy:   0%|          | 0/10 [00:00<?, ?it/s]"
      ]
     },
     "metadata": {},
     "output_type": "display_data"
    },
    {
     "name": "stdout",
     "output_type": "stream",
     "text": [
      "  Agent optimized evaluation complete.\n",
      "\n",
      "--- Benchmark Evaluation Finished ---\n",
      "\n",
      "--- STATISTICAL RUN 8/10 (Seed: 35) ---\n",
      "\n",
      "--- Starting Full Benchmark Evaluation ---\n",
      "\n",
      "--- Evaluating: Baseline Model ---\n"
     ]
    },
    {
     "data": {
      "application/vnd.jupyter.widget-view+json": {
       "model_id": "",
       "version_major": 2,
       "version_minor": 0
      },
      "text/plain": [
       "Running Inference:   0%|          | 0/3 [00:00<?, ?it/s]"
      ]
     },
     "metadata": {},
     "output_type": "display_data"
    },
    {
     "data": {
      "application/vnd.jupyter.widget-view+json": {
       "model_id": "33cfbb5a519e480fbef5b18465c25fa1",
       "version_major": 2,
       "version_minor": 0
      },
      "text/plain": [
       "Measuring Energy:   0%|          | 0/10 [00:00<?, ?it/s]"
      ]
     },
     "metadata": {},
     "output_type": "display_data"
    },
    {
     "name": "stdout",
     "output_type": "stream",
     "text": [
      "  Baseline evaluation complete.\n",
      "\n",
      "--- Evaluating: Manual Pruning (50%) ---\n"
     ]
    },
    {
     "data": {
      "application/vnd.jupyter.widget-view+json": {
       "model_id": "",
       "version_major": 2,
       "version_minor": 0
      },
      "text/plain": [
       "Running Inference:   0%|          | 0/3 [00:00<?, ?it/s]"
      ]
     },
     "metadata": {},
     "output_type": "display_data"
    },
    {
     "data": {
      "application/vnd.jupyter.widget-view+json": {
       "model_id": "499555c5e27b491daf3d3d5122e0964d",
       "version_major": 2,
       "version_minor": 0
      },
      "text/plain": [
       "Measuring Energy:   0%|          | 0/10 [00:00<?, ?it/s]"
      ]
     },
     "metadata": {},
     "output_type": "display_data"
    },
    {
     "name": "stdout",
     "output_type": "stream",
     "text": [
      "  Manual pruning evaluation complete.\n",
      "\n",
      "--- Evaluating: Manual Quantization ---\n"
     ]
    },
    {
     "data": {
      "application/vnd.jupyter.widget-view+json": {
       "model_id": "",
       "version_major": 2,
       "version_minor": 0
      },
      "text/plain": [
       "Running Inference:   0%|          | 0/3 [00:00<?, ?it/s]"
      ]
     },
     "metadata": {},
     "output_type": "display_data"
    },
    {
     "data": {
      "application/vnd.jupyter.widget-view+json": {
       "model_id": "7f68bf3c47ac47d3831b31fc93d05493",
       "version_major": 2,
       "version_minor": 0
      },
      "text/plain": [
       "Measuring Energy:   0%|          | 0/10 [00:00<?, ?it/s]"
      ]
     },
     "metadata": {},
     "output_type": "display_data"
    },
    {
     "name": "stdout",
     "output_type": "stream",
     "text": [
      "  Manual quantization evaluation complete.\n",
      "\n",
      "--- Evaluating: Agent Optimized Model ---\n",
      "  Applying Agent's strategy (Action: 11): Pruning 30%, Quantized: True\n"
     ]
    },
    {
     "data": {
      "application/vnd.jupyter.widget-view+json": {
       "model_id": "",
       "version_major": 2,
       "version_minor": 0
      },
      "text/plain": [
       "Running Inference:   0%|          | 0/3 [00:00<?, ?it/s]"
      ]
     },
     "metadata": {},
     "output_type": "display_data"
    },
    {
     "data": {
      "application/vnd.jupyter.widget-view+json": {
       "model_id": "321daa9471ac45888fa22f37a824080e",
       "version_major": 2,
       "version_minor": 0
      },
      "text/plain": [
       "Measuring Energy:   0%|          | 0/10 [00:00<?, ?it/s]"
      ]
     },
     "metadata": {},
     "output_type": "display_data"
    },
    {
     "name": "stdout",
     "output_type": "stream",
     "text": [
      "  Agent optimized evaluation complete.\n",
      "\n",
      "--- Benchmark Evaluation Finished ---\n",
      "\n",
      "--- STATISTICAL RUN 9/10 (Seed: 34) ---\n",
      "\n",
      "--- Starting Full Benchmark Evaluation ---\n",
      "\n",
      "--- Evaluating: Baseline Model ---\n"
     ]
    },
    {
     "data": {
      "application/vnd.jupyter.widget-view+json": {
       "model_id": "",
       "version_major": 2,
       "version_minor": 0
      },
      "text/plain": [
       "Running Inference:   0%|          | 0/3 [00:00<?, ?it/s]"
      ]
     },
     "metadata": {},
     "output_type": "display_data"
    },
    {
     "data": {
      "application/vnd.jupyter.widget-view+json": {
       "model_id": "700d1d476d3e4d69a6b74856b65abbf4",
       "version_major": 2,
       "version_minor": 0
      },
      "text/plain": [
       "Measuring Energy:   0%|          | 0/10 [00:00<?, ?it/s]"
      ]
     },
     "metadata": {},
     "output_type": "display_data"
    },
    {
     "name": "stdout",
     "output_type": "stream",
     "text": [
      "  Baseline evaluation complete.\n",
      "\n",
      "--- Evaluating: Manual Pruning (50%) ---\n"
     ]
    },
    {
     "data": {
      "application/vnd.jupyter.widget-view+json": {
       "model_id": "",
       "version_major": 2,
       "version_minor": 0
      },
      "text/plain": [
       "Running Inference:   0%|          | 0/3 [00:00<?, ?it/s]"
      ]
     },
     "metadata": {},
     "output_type": "display_data"
    },
    {
     "data": {
      "application/vnd.jupyter.widget-view+json": {
       "model_id": "69cdeb22adc2456d9973953e34600a44",
       "version_major": 2,
       "version_minor": 0
      },
      "text/plain": [
       "Measuring Energy:   0%|          | 0/10 [00:00<?, ?it/s]"
      ]
     },
     "metadata": {},
     "output_type": "display_data"
    },
    {
     "name": "stdout",
     "output_type": "stream",
     "text": [
      "  Manual pruning evaluation complete.\n",
      "\n",
      "--- Evaluating: Manual Quantization ---\n"
     ]
    },
    {
     "data": {
      "application/vnd.jupyter.widget-view+json": {
       "model_id": "",
       "version_major": 2,
       "version_minor": 0
      },
      "text/plain": [
       "Running Inference:   0%|          | 0/3 [00:00<?, ?it/s]"
      ]
     },
     "metadata": {},
     "output_type": "display_data"
    },
    {
     "data": {
      "application/vnd.jupyter.widget-view+json": {
       "model_id": "4defe473f49e476a86eda2d6441a90f8",
       "version_major": 2,
       "version_minor": 0
      },
      "text/plain": [
       "Measuring Energy:   0%|          | 0/10 [00:00<?, ?it/s]"
      ]
     },
     "metadata": {},
     "output_type": "display_data"
    },
    {
     "name": "stdout",
     "output_type": "stream",
     "text": [
      "  Manual quantization evaluation complete.\n",
      "\n",
      "--- Evaluating: Agent Optimized Model ---\n",
      "  Applying Agent's strategy (Action: 11): Pruning 30%, Quantized: True\n"
     ]
    },
    {
     "data": {
      "application/vnd.jupyter.widget-view+json": {
       "model_id": "",
       "version_major": 2,
       "version_minor": 0
      },
      "text/plain": [
       "Running Inference:   0%|          | 0/3 [00:00<?, ?it/s]"
      ]
     },
     "metadata": {},
     "output_type": "display_data"
    },
    {
     "data": {
      "application/vnd.jupyter.widget-view+json": {
       "model_id": "06b16e8bdfe341ea88e0bdf087d4cbc4",
       "version_major": 2,
       "version_minor": 0
      },
      "text/plain": [
       "Measuring Energy:   0%|          | 0/10 [00:00<?, ?it/s]"
      ]
     },
     "metadata": {},
     "output_type": "display_data"
    },
    {
     "name": "stdout",
     "output_type": "stream",
     "text": [
      "  Agent optimized evaluation complete.\n",
      "\n",
      "--- Benchmark Evaluation Finished ---\n",
      "\n",
      "--- STATISTICAL RUN 10/10 (Seed: 33) ---\n",
      "\n",
      "--- Starting Full Benchmark Evaluation ---\n",
      "\n",
      "--- Evaluating: Baseline Model ---\n"
     ]
    },
    {
     "data": {
      "application/vnd.jupyter.widget-view+json": {
       "model_id": "",
       "version_major": 2,
       "version_minor": 0
      },
      "text/plain": [
       "Running Inference:   0%|          | 0/3 [00:00<?, ?it/s]"
      ]
     },
     "metadata": {},
     "output_type": "display_data"
    },
    {
     "data": {
      "application/vnd.jupyter.widget-view+json": {
       "model_id": "2038fba9e91843d391cf81fd04b8ee87",
       "version_major": 2,
       "version_minor": 0
      },
      "text/plain": [
       "Measuring Energy:   0%|          | 0/10 [00:00<?, ?it/s]"
      ]
     },
     "metadata": {},
     "output_type": "display_data"
    },
    {
     "name": "stdout",
     "output_type": "stream",
     "text": [
      "  Baseline evaluation complete.\n",
      "\n",
      "--- Evaluating: Manual Pruning (50%) ---\n"
     ]
    },
    {
     "data": {
      "application/vnd.jupyter.widget-view+json": {
       "model_id": "",
       "version_major": 2,
       "version_minor": 0
      },
      "text/plain": [
       "Running Inference:   0%|          | 0/3 [00:00<?, ?it/s]"
      ]
     },
     "metadata": {},
     "output_type": "display_data"
    },
    {
     "data": {
      "application/vnd.jupyter.widget-view+json": {
       "model_id": "5a0fffb3533f4f7dab8654a118ed30b4",
       "version_major": 2,
       "version_minor": 0
      },
      "text/plain": [
       "Measuring Energy:   0%|          | 0/10 [00:00<?, ?it/s]"
      ]
     },
     "metadata": {},
     "output_type": "display_data"
    },
    {
     "name": "stdout",
     "output_type": "stream",
     "text": [
      "  Manual pruning evaluation complete.\n",
      "\n",
      "--- Evaluating: Manual Quantization ---\n"
     ]
    },
    {
     "data": {
      "application/vnd.jupyter.widget-view+json": {
       "model_id": "",
       "version_major": 2,
       "version_minor": 0
      },
      "text/plain": [
       "Running Inference:   0%|          | 0/3 [00:00<?, ?it/s]"
      ]
     },
     "metadata": {},
     "output_type": "display_data"
    },
    {
     "data": {
      "application/vnd.jupyter.widget-view+json": {
       "model_id": "b3f9d5f8f63147949dccead7e0cd2884",
       "version_major": 2,
       "version_minor": 0
      },
      "text/plain": [
       "Measuring Energy:   0%|          | 0/10 [00:00<?, ?it/s]"
      ]
     },
     "metadata": {},
     "output_type": "display_data"
    },
    {
     "name": "stdout",
     "output_type": "stream",
     "text": [
      "  Manual quantization evaluation complete.\n",
      "\n",
      "--- Evaluating: Agent Optimized Model ---\n",
      "  Applying Agent's strategy (Action: 11): Pruning 30%, Quantized: True\n"
     ]
    },
    {
     "data": {
      "application/vnd.jupyter.widget-view+json": {
       "model_id": "",
       "version_major": 2,
       "version_minor": 0
      },
      "text/plain": [
       "Running Inference:   0%|          | 0/3 [00:00<?, ?it/s]"
      ]
     },
     "metadata": {},
     "output_type": "display_data"
    },
    {
     "data": {
      "application/vnd.jupyter.widget-view+json": {
       "model_id": "1840587e6b564bb58087c2e8b0b8ca41",
       "version_major": 2,
       "version_minor": 0
      },
      "text/plain": [
       "Measuring Energy:   0%|          | 0/10 [00:00<?, ?it/s]"
      ]
     },
     "metadata": {},
     "output_type": "display_data"
    },
    {
     "name": "stdout",
     "output_type": "stream",
     "text": [
      "  Agent optimized evaluation complete.\n",
      "\n",
      "--- Benchmark Evaluation Finished ---\n",
      "\n",
      "--- Statistical Runs Finished: Aggregating results from 10 runs ---\n",
      "\n",
      "\n",
      "--- FINAL STATISTICAL BENCHMARK RESULTS (Mean ± Std Dev) ---\n",
      "|                      | Accuracy          | Energy (mWh)        | Latency (ms)    |   Params (M) |   FLOPs (G) | CO2_eq (kg)         |\n",
      "|:---------------------|:------------------|:--------------------|:----------------|-------------:|------------:|:--------------------|\n",
      "| Agent Optimized      | 0.68641 ± 0.00000 | 0.001705 ± 0.000170 | 0.4076 ± 0.0194 |       0      |       0     | 2.37e-07 ± 2.37e-08 |\n",
      "| Baseline             | 0.68641 ± 0.00000 | 0.001771 ± 0.000177 | 0.4261 ± 0.0466 |       0.5962 |       0.036 | 2.46e-07 ± 2.46e-08 |\n",
      "| Manual Pruning (50%) | 0.68641 ± 0.00000 | 0.001709 ± 0.000037 | 0.3898 ± 0.0211 |       0.5962 |       0.036 | 2.37e-07 ± 5.14e-09 |\n",
      "| Manual Quantization  | 0.68641 ± 0.00000 | 0.001800 ± 0.000183 | 0.4120 ± 0.0222 |       0      |       0     | 2.50e-07 ± 2.54e-08 |\n"
     ]
    }
   ],
   "source": [
    "# This function orchestrates the evaluation of four model versions:\n",
    "# 1. Baseline: The original trained GRU model.\n",
    "# 2. Manual Pruning (50%): Baseline model with 50% L1 pruning applied.\n",
    "# 3. Manual Quantization: Baseline model with dynamic quantization applied.\n",
    "# 4. Agent Optimized: Baseline model with the pruning/quantization strategy determined in the previous step.\n",
    "# It uses the `evaluate_model` function for consistent metric calculation on the CPU.\n",
    "\n",
    "def run_full_benchmark(baseline_model_cpu, test_loader, best_action_info):\n",
    "    \"\"\"Runs and aggregates benchmark results for different model versions.\"\"\"\n",
    "    results = {} # Dictionary to store metrics for each version\n",
    "    print(\"\\n--- Starting Full Benchmark Evaluation ---\")\n",
    "\n",
    "    # --- 1. Baseline Evaluation ---\n",
    "    print(\"\\n--- Evaluating: Baseline Model ---\")\n",
    "    try:\n",
    "        results['Baseline'] = evaluate_model(copy.deepcopy(baseline_model_cpu), test_loader, Config.CODECARBON_BATCHES)\n",
    "        print(\"  Baseline evaluation complete.\")\n",
    "    except Exception as e:\n",
    "        print(f\"  Error evaluating baseline: {e}\")\n",
    "        results['Baseline'] = {} # Store empty dict on error\n",
    "\n",
    "    # --- 2. Manual Pruning (50%) Evaluation ---\n",
    "    print(\"\\n--- Evaluating: Manual Pruning (50%) ---\")\n",
    "    try:\n",
    "        pruned_model_manual = apply_l1_pruning(baseline_model_cpu, 0.5)\n",
    "        results['Manual Pruning (50%)'] = evaluate_model(pruned_model_manual, test_loader, Config.CODECARBON_BATCHES)\n",
    "        print(\"  Manual pruning evaluation complete.\")\n",
    "    except Exception as e:\n",
    "        print(f\"  Error evaluating manual pruning: {e}\")\n",
    "        results['Manual Pruning (50%)'] = {}\n",
    "\n",
    "    # --- 3. Manual Quantization Evaluation ---\n",
    "    print(\"\\n--- Evaluating: Manual Quantization ---\")\n",
    "    try:\n",
    "        quantized_model_manual = apply_dynamic_quantization(baseline_model_cpu)\n",
    "        results['Manual Quantization'] = evaluate_model(quantized_model_manual, test_loader, Config.CODECARBON_BATCHES)\n",
    "        print(\"  Manual quantization evaluation complete.\")\n",
    "    except Exception as e:\n",
    "        print(f\"  Error evaluating manual quantization: {e}\")\n",
    "        results['Manual Quantization'] = {}\n",
    "\n",
    "    # --- 4. Agent Optimized Evaluation ---\n",
    "    print(\"\\n--- Evaluating: Agent Optimized Model ---\")\n",
    "    if best_action_info and 'pruning_amount' in best_action_info and 'quantized' in best_action_info:\n",
    "        pruning_amount_agent = best_action_info['pruning_amount']\n",
    "        apply_quant_agent = best_action_info['quantized']\n",
    "        action_code_agent = best_action_info.get('action_code', 'N/A') # Get action code if available\n",
    "        print(f\"  Applying Agent's strategy (Action: {action_code_agent}): Pruning {pruning_amount_agent*100:.0f}%, Quantized: {apply_quant_agent}\")\n",
    "        try:\n",
    "            agent_optimized_model = copy.deepcopy(baseline_model_cpu) # Start fresh\n",
    "            if pruning_amount_agent > 0:\n",
    "                agent_optimized_model = apply_l1_pruning(agent_optimized_model, pruning_amount_agent)\n",
    "            if apply_quant_agent:\n",
    "                agent_optimized_model = apply_dynamic_quantization(agent_optimized_model)\n",
    "\n",
    "            # Evaluate the resulting agent-optimized model\n",
    "            results['Agent Optimized'] = evaluate_model(agent_optimized_model, test_loader, Config.CODECARBON_BATCHES)\n",
    "            print(\"  Agent optimized evaluation complete.\")\n",
    "        except Exception as e:\n",
    "            print(f\"  Error evaluating agent optimized model: {e}\")\n",
    "            results['Agent Optimized'] = {}\n",
    "    else:\n",
    "        print(\"  Skipping agent evaluation: Best action information is not available or invalid.\")\n",
    "        results['Agent Optimized'] = {} # Ensure the key exists even if skipped\n",
    "\n",
    "    # --- Format Results into a DataFrame ---\n",
    "    df_results = pd.DataFrame(results).T.fillna(0) # Transpose and fill NaNs\n",
    "\n",
    "    # Calculate derived metrics (GFLOPs, MParams, mWh) safely\n",
    "    df_results['flops_g'] = (df_results['flops'] / 1e9).round(6) if 'flops' in df_results else 0.0\n",
    "    df_results['params_m'] = (df_results['params'] / 1e6).round(6) if 'params' in df_results else 0.0\n",
    "    df_results['energy_mwh'] = (df_results['energy_kwh'] * 1000).round(6) if 'energy_kwh' in df_results else 0.0\n",
    "\n",
    "    # Ensure all desired columns exist, adding missing ones with default 0.0\n",
    "    final_columns = ['accuracy', 'params_m', 'flops_g', 'energy_mwh', 'co2_eq_kg', 'latency_ms']\n",
    "    for col in final_columns:\n",
    "        if col not in df_results.columns:\n",
    "            df_results[col] = 0.0\n",
    "        # Ensure numeric type after potential fillna(0)\n",
    "        df_results[col] = pd.to_numeric(df_results[col], errors='coerce').fillna(0.0)\n",
    "\n",
    "\n",
    "    print(\"\\n--- Benchmark Evaluation Finished ---\")\n",
    "    # Return only the formatted columns of interest\n",
    "    return df_results[final_columns]\n",
    "\n",
    "# =============================================================================\n",
    "# --- Execute the Benchmark N Times for Statistical Analysis ---\n",
    "# =============================================================================\n",
    "all_results_list = []\n",
    "print(f\"\\n--- Starting {Config.N_RUNS} Statistical Benchmark Runs ---\")\n",
    "\n",
    "for i in range(Config.N_RUNS):\n",
    "    current_seed = Config.SEED - i\n",
    "    set_seed(current_seed) # Set seed for reproducibility of this run\n",
    "    print(f\"\\n--- STATISTICAL RUN {i+1}/{Config.N_RUNS} (Seed: {current_seed}) ---\")\n",
    "    \n",
    "    # Run the full benchmark suite for this seed\n",
    "    run_df = run_full_benchmark(baseline_model_cpu, test_loader, best_action_info)\n",
    "    all_results_list.append(run_df)\n",
    "\n",
    "print(f\"\\n--- Statistical Runs Finished: Aggregating results from {Config.N_RUNS} runs ---\")\n",
    "\n",
    "# --- Aggregate and Display Statistical Results ---\n",
    "try:\n",
    "    all_results_df = pd.concat(all_results_list)\n",
    "    \n",
    "    # Calculate Mean and Standard Deviation\n",
    "    df_mean = all_results_df.groupby(level=0).mean()\n",
    "    df_std = all_results_df.groupby(level=0).std()\n",
    "    \n",
    "    # Create the final statistical report DataFrame\n",
    "    df_report = pd.DataFrame(index=df_mean.index)\n",
    "    \n",
    "    # Format columns with Mean ± Std Dev (Params/FLOPs are constant, so just show mean)\n",
    "    df_report['Accuracy'] = df_mean['accuracy'].map('{:.5f}'.format) + \" ± \" + df_std['accuracy'].map('{:.5f}'.format)\n",
    "    df_report['Energy (mWh)'] = df_mean['energy_mwh'].map('{:.6f}'.format) + \" ± \" + df_std['energy_mwh'].map('{:.6f}'.format)\n",
    "    df_report['Latency (ms)'] = df_mean['latency_ms'].map('{:.4f}'.format) + \" ± \" + df_std['latency_ms'].map('{:.4f}'.format)\n",
    "    df_report['Params (M)'] = df_mean['params_m'].map('{:.4f}'.format)\n",
    "    df_report['FLOPs (G)'] = df_mean['flops_g'].map('{:.4f}'.format)\n",
    "    df_report['CO2_eq (kg)'] = df_mean['co2_eq_kg'].map('{:.2e}'.format) + \" ± \" + df_std['co2_eq_kg'].map('{:.2e}'.format)\n",
    "\n",
    "    print(\"\\n\\n--- FINAL STATISTICAL BENCHMARK RESULTS (Mean ± Std Dev) ---\")\n",
    "    print(df_report.to_markdown())\n",
    "\n",
    "    # Assign the mean results to the original dataframe name for visualization in the next cell\n",
    "    benchmark_results_df = df_mean\n",
    "\n",
    "except Exception as e:\n",
    "    print(f\"Error during results aggregation: {e}\")\n",
    "    # Fallback to last run results if aggregation fails, so visualization might still work\n",
    "    if 'run_df' in locals():\n",
    "        benchmark_results_df = run_df\n",
    "        print(\"\\n--- WARNING: Aggregation failed. Showing results from LAST RUN only ---\")\n",
    "        print(benchmark_results_df.to_markdown())\n",
    "    else:\n",
    "        print(\"\\n--- FATAL: Benchmark execution failed entirely. ---\")\n",
    "        benchmark_results_df = pd.DataFrame() # Empty df for next cell"
   ]
  },
  {
   "cell_type": "markdown",
   "metadata": {},
   "source": [
    "# 7. Visualize Results"
   ]
  },
  {
   "cell_type": "code",
   "execution_count": 81,
   "metadata": {
    "execution": {
     "iopub.execute_input": "2025-10-31T17:02:58.874097Z",
     "iopub.status.busy": "2025-10-31T17:02:58.873816Z",
     "iopub.status.idle": "2025-10-31T17:02:59.978772Z",
     "shell.execute_reply": "2025-10-31T17:02:59.978089Z",
     "shell.execute_reply.started": "2025-10-31T17:02:58.874079Z"
    },
    "trusted": true
   },
   "outputs": [
    {
     "name": "stdout",
     "output_type": "stream",
     "text": [
      "\n",
      "--- Generating Performance Comparison Visualizations (based on Mean values) ---\n"
     ]
    },
    {
     "name": "stderr",
     "output_type": "stream",
     "text": [
      "/usr/local/lib/python3.11/dist-packages/seaborn/_oldcore.py:1498: DeprecationWarning: is_categorical_dtype is deprecated and will be removed in a future version. Use isinstance(dtype, pd.CategoricalDtype) instead\n",
      "  if pd.api.types.is_categorical_dtype(vector):\n",
      "/usr/local/lib/python3.11/dist-packages/seaborn/_oldcore.py:1498: DeprecationWarning: is_categorical_dtype is deprecated and will be removed in a future version. Use isinstance(dtype, pd.CategoricalDtype) instead\n",
      "  if pd.api.types.is_categorical_dtype(vector):\n",
      "/usr/local/lib/python3.11/dist-packages/seaborn/_oldcore.py:1498: DeprecationWarning: is_categorical_dtype is deprecated and will be removed in a future version. Use isinstance(dtype, pd.CategoricalDtype) instead\n",
      "  if pd.api.types.is_categorical_dtype(vector):\n"
     ]
    },
    {
     "data": {
      "image/png": "[encoded data removed]",
      "text/plain": [
       "<Figure size 800x600 with 1 Axes>"
      ]
     },
     "metadata": {},
     "output_type": "display_data"
    },
    {
     "name": "stderr",
     "output_type": "stream",
     "text": [
      "/usr/local/lib/python3.11/dist-packages/seaborn/_oldcore.py:1498: DeprecationWarning: is_categorical_dtype is deprecated and will be removed in a future version. Use isinstance(dtype, pd.CategoricalDtype) instead\n",
      "  if pd.api.types.is_categorical_dtype(vector):\n",
      "/usr/local/lib/python3.11/dist-packages/seaborn/_oldcore.py:1498: DeprecationWarning: is_categorical_dtype is deprecated and will be removed in a future version. Use isinstance(dtype, pd.CategoricalDtype) instead\n",
      "  if pd.api.types.is_categorical_dtype(vector):\n",
      "/usr/local/lib/python3.11/dist-packages/seaborn/_oldcore.py:1498: DeprecationWarning: is_categorical_dtype is deprecated and will be removed in a future version. Use isinstance(dtype, pd.CategoricalDtype) instead\n",
      "  if pd.api.types.is_categorical_dtype(vector):\n"
     ]
    },
    {
     "data": {
      "image/png": "[encoded data removed]",
      "text/plain": [
       "<Figure size 800x600 with 1 Axes>"
      ]
     },
     "metadata": {},
     "output_type": "display_data"
    },
    {
     "name": "stderr",
     "output_type": "stream",
     "text": [
      "/usr/local/lib/python3.11/dist-packages/seaborn/_oldcore.py:1498: DeprecationWarning: is_categorical_dtype is deprecated and will be removed in a future version. Use isinstance(dtype, pd.CategoricalDtype) instead\n",
      "  if pd.api.types.is_categorical_dtype(vector):\n",
      "/usr/local/lib/python3.11/dist-packages/seaborn/_oldcore.py:1498: DeprecationWarning: is_categorical_dtype is deprecated and will be removed in a future version. Use isinstance(dtype, pd.CategoricalDtype) instead\n",
      "  if pd.api.types.is_categorical_dtype(vector):\n",
      "/usr/local/lib/python3.11/dist-packages/seaborn/_oldcore.py:1498: DeprecationWarning: is_categorical_dtype is deprecated and will be removed in a future version. Use isinstance(dtype, pd.CategoricalDtype) instead\n",
      "  if pd.api.types.is_categorical_dtype(vector):\n"
     ]
    },
    {
     "data": {
      "image/png": "[encoded data removed]",
      "text/plain": [
       "<Figure size 800x600 with 1 Axes>"
      ]
     },
     "metadata": {},
     "output_type": "display_data"
    },
    {
     "name": "stderr",
     "output_type": "stream",
     "text": [
      "/usr/local/lib/python3.11/dist-packages/seaborn/_oldcore.py:1498: DeprecationWarning: is_categorical_dtype is deprecated and will be removed in a future version. Use isinstance(dtype, pd.CategoricalDtype) instead\n",
      "  if pd.api.types.is_categorical_dtype(vector):\n",
      "/usr/local/lib/python3.11/dist-packages/seaborn/_oldcore.py:1498: DeprecationWarning: is_categorical_dtype is deprecated and will be removed in a future version. Use isinstance(dtype, pd.CategoricalDtype) instead\n",
      "  if pd.api.types.is_categorical_dtype(vector):\n",
      "/usr/local/lib/python3.11/dist-packages/seaborn/_oldcore.py:1498: DeprecationWarning: is_categorical_dtype is deprecated and will be removed in a future version. Use isinstance(dtype, pd.CategoricalDtype) instead\n",
      "  if pd.api.types.is_categorical_dtype(vector):\n"
     ]
    },
    {
     "data": {
      "image/png": "[encoded data removed]",
      "text/plain": [
       "<Figure size 800x600 with 1 Axes>"
      ]
     },
     "metadata": {},
     "output_type": "display_data"
    },
    {
     "name": "stderr",
     "output_type": "stream",
     "text": [
      "/usr/local/lib/python3.11/dist-packages/seaborn/_oldcore.py:1498: DeprecationWarning: is_categorical_dtype is deprecated and will be removed in a future version. Use isinstance(dtype, pd.CategoricalDtype) instead\n",
      "  if pd.api.types.is_categorical_dtype(vector):\n",
      "/usr/local/lib/python3.11/dist-packages/seaborn/_oldcore.py:1498: DeprecationWarning: is_categorical_dtype is deprecated and will be removed in a future version. Use isinstance(dtype, pd.CategoricalDtype) instead\n",
      "  if pd.api.types.is_categorical_dtype(vector):\n",
      "/usr/local/lib/python3.11/dist-packages/seaborn/_oldcore.py:1498: DeprecationWarning: is_categorical_dtype is deprecated and will be removed in a future version. Use isinstance(dtype, pd.CategoricalDtype) instead\n",
      "  if pd.api.types.is_categorical_dtype(vector):\n"
     ]
    },
    {
     "data": {
      "image/png": "[encoded data removed]",
      "text/plain": [
       "<Figure size 800x600 with 1 Axes>"
      ]
     },
     "metadata": {},
     "output_type": "display_data"
    },
    {
     "name": "stderr",
     "output_type": "stream",
     "text": [
      "/usr/local/lib/python3.11/dist-packages/seaborn/_oldcore.py:1498: DeprecationWarning: is_categorical_dtype is deprecated and will be removed in a future version. Use isinstance(dtype, pd.CategoricalDtype) instead\n",
      "  if pd.api.types.is_categorical_dtype(vector):\n",
      "/usr/local/lib/python3.11/dist-packages/seaborn/_oldcore.py:1498: DeprecationWarning: is_categorical_dtype is deprecated and will be removed in a future version. Use isinstance(dtype, pd.CategoricalDtype) instead\n",
      "  if pd.api.types.is_categorical_dtype(vector):\n",
      "/usr/local/lib/python3.11/dist-packages/seaborn/_oldcore.py:1498: DeprecationWarning: is_categorical_dtype is deprecated and will be removed in a future version. Use isinstance(dtype, pd.CategoricalDtype) instead\n",
      "  if pd.api.types.is_categorical_dtype(vector):\n",
      "/usr/local/lib/python3.11/dist-packages/seaborn/_oldcore.py:1498: DeprecationWarning: is_categorical_dtype is deprecated and will be removed in a future version. Use isinstance(dtype, pd.CategoricalDtype) instead\n",
      "  if pd.api.types.is_categorical_dtype(vector):\n",
      "/usr/local/lib/python3.11/dist-packages/seaborn/_oldcore.py:1498: DeprecationWarning: is_categorical_dtype is deprecated and will be removed in a future version. Use isinstance(dtype, pd.CategoricalDtype) instead\n",
      "  if pd.api.types.is_categorical_dtype(vector):\n",
      "/usr/local/lib/python3.11/dist-packages/seaborn/_oldcore.py:1498: DeprecationWarning: is_categorical_dtype is deprecated and will be removed in a future version. Use isinstance(dtype, pd.CategoricalDtype) instead\n",
      "  if pd.api.types.is_categorical_dtype(vector):\n",
      "/usr/local/lib/python3.11/dist-packages/seaborn/_oldcore.py:1498: DeprecationWarning: is_categorical_dtype is deprecated and will be removed in a future version. Use isinstance(dtype, pd.CategoricalDtype) instead\n",
      "  if pd.api.types.is_categorical_dtype(vector):\n",
      "/usr/local/lib/python3.11/dist-packages/seaborn/_oldcore.py:1498: DeprecationWarning: is_categorical_dtype is deprecated and will be removed in a future version. Use isinstance(dtype, pd.CategoricalDtype) instead\n",
      "  if pd.api.types.is_categorical_dtype(vector):\n",
      "/usr/local/lib/python3.11/dist-packages/seaborn/_oldcore.py:1498: DeprecationWarning: is_categorical_dtype is deprecated and will be removed in a future version. Use isinstance(dtype, pd.CategoricalDtype) instead\n",
      "  if pd.api.types.is_categorical_dtype(vector):\n",
      "/usr/local/lib/python3.11/dist-packages/seaborn/_oldcore.py:1498: DeprecationWarning: is_categorical_dtype is deprecated and will be removed in a future version. Use isinstance(dtype, pd.CategoricalDtype) instead\n",
      "  if pd.api.types.is_categorical_dtype(vector):\n"
     ]
    },
    {
     "name": "stdout",
     "output_type": "stream",
     "text": [
      "\n",
      "--- Generating Pareto Plot (Mean Accuracy vs. Mean Inference Energy) ---\n"
     ]
    },
    {
     "data": {
      "image/png": "[encoded data removed]",
      "text/plain": [
       "<Figure size 1200x600 with 1 Axes>"
      ]
     },
     "metadata": {},
     "output_type": "display_data"
    }
   ],
   "source": [
    "print(\"\\n--- Generating Performance Comparison Visualizations (based on Mean values) ---\")\n",
    "\n",
    "if benchmark_results_df.empty:\n",
    "    print(\"Skipping visualization: Benchmark results are not available.\")\n",
    "else:\n",
    "    # Global style settings\n",
    "    plt.style.use(\"seaborn-v0_8-whitegrid\")\n",
    "    sns.set_context(\"talk\", font_scale=0.9)\n",
    "    sns.set_palette(\"deep\")\n",
    "    plt.rcParams.update({\n",
    "        \"axes.edgecolor\": \"#333333\",\n",
    "        \"axes.labelcolor\": \"#333333\",\n",
    "        \"axes.titleweight\": \"bold\",\n",
    "        \"axes.titlepad\": 15,\n",
    "        \"grid.color\": \"#CCCCCC\",\n",
    "        \"font.family\": \"DejaVu Sans\",\n",
    "        \"figure.facecolor\": \"white\"\n",
    "    })\n",
    "\n",
    "    metrics_to_plot = [\n",
    "        {'metric': 'accuracy', 'palette': 'viridis', 'title': 'Mean Accuracy Comparison', 'ylabel': 'Mean Accuracy Score'},\n",
    "        {'metric': 'params_m', 'palette': 'magma', 'title': 'Model Size Comparison', 'ylabel': 'Parameters (Millions)'},\n",
    "        {'metric': 'flops_g', 'palette': 'plasma', 'title': 'Computational Cost Comparison', 'ylabel': 'GFLOPs (Estimate)'},\n",
    "        {'metric': 'latency_ms', 'palette': 'cividis', 'title': 'Mean Inference Latency Comparison', 'ylabel': 'Mean Latency (ms)'},\n",
    "        {'metric': 'energy_mwh', 'palette': 'coolwarm', 'title': 'Mean Inference Energy Comparison', 'ylabel': 'Mean Energy (mWh)'}\n",
    "    ]\n",
    "\n",
    "    for plot_info in metrics_to_plot:\n",
    "        metric = plot_info['metric']\n",
    "\n",
    "        if metric in benchmark_results_df.columns:\n",
    "            try:\n",
    "                plt.figure(figsize=(8, 6))\n",
    "                ax = plt.gca()\n",
    "                ascending_sort = (metric != 'accuracy')\n",
    "                data_sorted = benchmark_results_df.sort_values(by=metric, ascending=ascending_sort)\n",
    "\n",
    "                # Bar plot with gentle color gradient\n",
    "                bars = sns.barplot(\n",
    "                    x=data_sorted.index, y=metric, data=data_sorted, ax=ax,\n",
    "                    palette=sns.color_palette(plot_info['palette'], len(data_sorted))\n",
    "                )\n",
    "\n",
    "                # Titles & labels\n",
    "                ax.set_title(plot_info['title'], fontsize=15, weight='bold', pad=15)\n",
    "                ax.set_ylabel(plot_info['ylabel'], fontsize=12)\n",
    "                ax.set_xlabel('')\n",
    "                ax.tick_params(axis='x', rotation=20, labelsize=10)\n",
    "                ax.tick_params(axis='y', labelsize=10)\n",
    "                sns.despine(left=True, bottom=True)\n",
    "\n",
    "                # Add value annotations\n",
    "                for container in bars.containers:\n",
    "                    if metric in ['accuracy']:\n",
    "                        fmt = \"%.6f\"\n",
    "                    elif metric in ['energy_mwh', 'latency_ms']:\n",
    "                        fmt = \"%.4f\"\n",
    "                    else:\n",
    "                        fmt = \"%.2f\"\n",
    "                    bars.bar_label(container, fmt=fmt, padding=3, fontsize=9, color=\"#333333\")\n",
    "\n",
    "                # Dynamic Y limit\n",
    "                min_val, max_val = data_sorted[metric].min(), data_sorted[metric].max()\n",
    "                pad = (max_val - min_val) * 0.2 if max_val > min_val else max_val * 0.2 + 1e-6\n",
    "                ax.set_ylim(bottom=max(0, min_val - pad * 0.1), top=max_val + pad)\n",
    "\n",
    "                plt.tight_layout()\n",
    "                plt.show()\n",
    "\n",
    "            except Exception as e:\n",
    "                print(f\"Warning: Could not plot {metric}: {e}\")\n",
    "                plt.figure(figsize=(10, 6))\n",
    "                plt.title(f\"{plot_info['title']} (Error)\", fontsize=12, weight='bold')\n",
    "                plt.text(0.5, 0.5, f\"Error plotting {metric}\", ha='center', va='center')\n",
    "                plt.axis('off')\n",
    "                plt.show()\n",
    "        else:\n",
    "            print(f\"Skipping plot for '{metric}': Data not found.\")\n",
    "            plt.figure(figsize=(10, 6))\n",
    "            plt.title(f\"{plot_info['title']} (Data N/A)\", fontsize=12, weight='bold')\n",
    "            plt.text(0.5, 0.5, f\"Data for {metric} not available\", ha='center', va='center')\n",
    "            plt.axis('off')\n",
    "            plt.show()\n",
    "\n",
    "    # --- Pareto Plot ---\n",
    "    print(\"\\n--- Generating Pareto Plot (Mean Accuracy vs. Mean Inference Energy) ---\")\n",
    "\n",
    "    if {'energy_mwh', 'accuracy'}.issubset(benchmark_results_df.columns):\n",
    "        try:\n",
    "            plt.figure(figsize=(12, 6))\n",
    "            plot_df = benchmark_results_df.copy()\n",
    "\n",
    "            scatter = sns.scatterplot(\n",
    "                data=plot_df, x='energy_mwh', y='accuracy', hue=plot_df.index,\n",
    "                s=180, style=plot_df.index, palette='tab10', alpha=0.9, edgecolor='black'\n",
    "            )\n",
    "\n",
    "            plt.title('Mean Accuracy vs. Inference Energy Trade-off', fontsize=15, weight='bold')\n",
    "            plt.xlabel('Mean Inference Energy (mWh)', fontsize=12)\n",
    "            plt.ylabel('Mean Accuracy', fontsize=12)\n",
    "            plt.legend(title='Model', bbox_to_anchor=(1.05, 1), loc='upper left', fontsize=9, frameon=True)\n",
    "            plt.grid(True, linestyle='--', alpha=0.7)\n",
    "\n",
    "            sns.despine()\n",
    "            plt.tight_layout(rect=[0, 0, 0.85, 1])\n",
    "            plt.show()\n",
    "\n",
    "        except Exception as e:\n",
    "            print(f\"Warning: Could not generate Pareto plot: {e}\")\n",
    "    else:\n",
    "        print(\"Skipping Pareto plot: Required columns ('energy_mwh', 'accuracy') not found.\")\n"
   ]
  }
 ],
 "metadata": {
  "kaggle": {
   "accelerator": "gpu",
   "dataSources": [
    {
     "datasetId": 8585703,
     "sourceId": 13521715,
     "sourceType": "datasetVersion"
    },
    {
     "datasetId": 8591153,
     "sourceId": 13534938,
     "sourceType": "datasetVersion"
    }
   ],
   "dockerImageVersionId": 31153,
   "isGpuEnabled": true,
   "isInternetEnabled": true,
   "language": "python",
   "sourceType": "notebook"
  },
  "kernelspec": {
   "display_name": "Python 3",
   "language": "python",
   "name": "python3"
  },
  "language_info": {
   "codemirror_mode": {
    "name": "ipython",
    "version": 3
   },
   "file_extension": ".py",
   "mimetype": "text/x-python",
   "name": "python",
   "nbconvert_exporter": "python",
   "pygments_lexer": "ipython3",
   "version": "3.13.1"
  }
 },
 "nbformat": 4,
 "nbformat_minor": 4
}
